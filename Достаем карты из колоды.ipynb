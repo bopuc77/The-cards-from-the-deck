{
 "cells": [
  {
   "cell_type": "code",
   "execution_count": 1,
   "id": "7e1b0079-c0ba-4bb6-a131-817091f1d6b7",
   "metadata": {},
   "outputs": [],
   "source": [
    "import random\n",
    "import itertools"
   ]
  },
  {
   "cell_type": "code",
   "execution_count": 15,
   "id": "a345f1a0-88f0-4b7d-a0cb-da0d006a24ec",
   "metadata": {},
   "outputs": [
    {
     "name": "stdout",
     "output_type": "stream",
     "text": [
      "['K H', 'T D', 'Q S', 'T C']\n"
     ]
    }
   ],
   "source": [
    "ranks = '23456789TJQKA'\n",
    "suits ='HDCS' \n",
    "deck = tuple(' '.join(card) for card in itertools.product(ranks, suits))\n",
    "hand = random.sample(deck, 4)\n",
    "print(hand)"
   ]
  }
 ],
 "metadata": {
  "kernelspec": {
   "display_name": "anaconda-ai-2024.04-py310",
   "language": "python",
   "name": "conda-env-anaconda-ai-2024.04-py310-py"
  },
  "language_info": {
   "codemirror_mode": {
    "name": "ipython",
    "version": 3
   },
   "file_extension": ".py",
   "mimetype": "text/x-python",
   "name": "python",
   "nbconvert_exporter": "python",
   "pygments_lexer": "ipython3",
   "version": "3.10.13"
  }
 },
 "nbformat": 4,
 "nbformat_minor": 5
}
